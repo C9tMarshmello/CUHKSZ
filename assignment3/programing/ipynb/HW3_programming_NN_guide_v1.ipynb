{
 "cells": [
  {
   "cell_type": "markdown",
   "metadata": {},
   "source": [
    "## DDA3020 Autumn 2023 Homework 3 \n",
    "\n",
    "### Programming Part 2：Neural Networks with PyTorch\n",
    "\n",
    "--------------------------------------------------------------------------------------------------------------------------\n",
    "In this notebook, we will build a fully-connected Neural Network and a Convolutional Neural Network with PyTorch, then apply on the MNIST data-set.\n",
    "\n",
    "--------------------------------------------------------------------------------------------------------------------------\n"
   ]
  },
  {
   "cell_type": "code",
   "execution_count": 70,
   "metadata": {},
   "outputs": [],
   "source": [
    "import numpy as np\n",
    "import torch\n",
    "import torch.nn as nn\n",
    "import matplotlib as plt"
   ]
  },
  {
   "cell_type": "markdown",
   "metadata": {},
   "source": [
    "### 1. Preparation: PyTorch basics and back-propagation (10 points)\n",
    "PyTorch is one of the most popular frameworks for Deep Learning. To have a quick insight on how to use PyTorch, let's say that most of the functionalities of a numpy array are also maintained for torch tensors, except that the grammar might be slightly different. \n",
    "\n",
    "##### 1-1 (0.5 point) \n",
    "\n",
    "Set the random seed to 123. Create a random Tensor `a` of shape [3,20,20] with default normal distribution $\\mathcal{N}(0,1)$. "
   ]
  },
  {
   "cell_type": "code",
   "execution_count": 71,
   "metadata": {},
   "outputs": [],
   "source": [
    "torch.manual_seed(123)\n",
    "a = torch.randn(3, 20, 20)"
   ]
  },
  {
   "cell_type": "markdown",
   "metadata": {},
   "source": [
    "##### 1-2 (0.5 point) \n",
    "1. Transfer `a` to a numpy array and print `a[0,0]`.\n",
    "2. Transfer `a` back to torch tensor and print `a[0,0]`.\n",
    "\n",
    "**Apart from this block, in this section, you shall not to use numpy**\n",
    "\n"
   ]
  },
  {
   "cell_type": "code",
   "execution_count": 72,
   "metadata": {},
   "outputs": [
    {
     "name": "stdout",
     "output_type": "stream",
     "text": [
      "a[0,0] of array 'a': \n",
      "[ 0.3373702  -0.17777722 -0.3035276  -0.58801186  0.3486052   0.66034096\n",
      " -0.21963762 -0.37916982  0.76710707 -1.192502    0.6983519  -1.4097229\n",
      "  0.17937961  1.895148    0.49544638  0.26919857 -0.07702024 -1.0204719\n",
      " -0.16895628  0.91776454]\n",
      "\n",
      "a[0,0] of tensor 'a': \n",
      "tensor([ 0.33737018704414367676, -0.17777721583843231201,\n",
      "        -0.30352759361267089844, -0.58801186084747314453,\n",
      "         0.34860518574714660645,  0.66034096479415893555,\n",
      "        -0.21963761746883392334, -0.37916982173919677734,\n",
      "         0.76710706949234008789, -1.19250202178955078125,\n",
      "         0.69835191965103149414, -1.40972292423248291016,\n",
      "         0.17937961220741271973,  1.89514803886413574219,\n",
      "         0.49544638395309448242,  0.26919856667518615723,\n",
      "        -0.07702023535966873169, -1.02047193050384521484,\n",
      "        -0.16895627975463867188,  0.91776454448699951172])\n"
     ]
    }
   ],
   "source": [
    "# Transfer `a` to a numpy array and print `a[0,0]`\n",
    "a = np.array(a)\n",
    "print('a[0,0] of array \\'a\\': ')\n",
    "print(a[0,0])\n",
    "\n",
    "print()\n",
    "\n",
    "# Transfer `a` back to torch tensor and print `a[0,0]`.\n",
    "a = torch.from_numpy(a)\n",
    "print('a[0,0] of tensor \\'a\\': ')\n",
    "print(a[0,0])"
   ]
  },
  {
   "cell_type": "markdown",
   "metadata": {},
   "source": [
    "##### 1-3 (1 point) \n",
    "\n",
    "Print for `a`: \n",
    "- its shape (size)\n",
    "- its mean value over all entries\n",
    "- its std over all entries\n",
    "- its median value over all entries"
   ]
  },
  {
   "cell_type": "code",
   "execution_count": 73,
   "metadata": {},
   "outputs": [
    {
     "name": "stdout",
     "output_type": "stream",
     "text": [
      "Shape: torch.Size([3, 20, 20])\n",
      "Mean value over all entries: -0.002802974311634898\n",
      "Standard deviation over all entries: 0.996509313583374\n",
      "Median value over all entries: -0.0016410714015364647\n"
     ]
    }
   ],
   "source": [
    "# Print the shape of tensor 'a'\n",
    "print(\"Shape:\", a.shape)\n",
    "\n",
    "# Print the mean value over all entries\n",
    "print(\"Mean value over all entries:\", a.mean().item())\n",
    "\n",
    "# Print the standard deviation over all entries\n",
    "print(\"Standard deviation over all entries:\", a.std().item())\n",
    "\n",
    "# Print the median value over all entries\n",
    "print(\"Median value over all entries:\", torch.median(a).item())\n"
   ]
  },
  {
   "cell_type": "markdown",
   "metadata": {},
   "source": [
    "##### 1-4 (1 point)\n",
    "\n",
    "Compute: \n",
    "- `b2` = the mean values of `a` along axis 2\n",
    "- `b12`= the mean values of `a` along axis 1 and 2\n",
    "- Print the shape of `b2` and `b12`"
   ]
  },
  {
   "cell_type": "code",
   "execution_count": 74,
   "metadata": {},
   "outputs": [
    {
     "name": "stdout",
     "output_type": "stream",
     "text": [
      "Shape of b2: torch.Size([3, 20])\n",
      "Shape of b12: torch.Size([3])\n"
     ]
    }
   ],
   "source": [
    "# Compute the mean values along axis 2\n",
    "b2 = a.mean(dim=2)\n",
    "\n",
    "# Compute the mean values along axis 1 and 2\n",
    "b12 = a.mean(dim=(1, 2))\n",
    "\n",
    "# Print the shape of b2 and b12\n",
    "print(\"Shape of b2:\", b2.shape)\n",
    "print(\"Shape of b12:\", b12.shape)\n"
   ]
  },
  {
   "cell_type": "markdown",
   "metadata": {},
   "source": [
    "##### 1-5 (3 point) \n",
    "\n",
    "Create a neural network `model_tmp` of 3 layers:\n",
    "\n",
    "- layer 1 ---------- : receives input of length 400, has 128 neurons with bias\n",
    "\n",
    "- activation 1 ----- : relu\n",
    "\n",
    "- layer 2 ---------- : receives input of length 128, has 64 neurons with bias\n",
    "\n",
    "- activation 2 ----- : relu\n",
    "\n",
    "- layer 3 ---------- : receives input of length 64, has 4 neurons without bias\n",
    "\n",
    "- activation 3 ----- : softmax over axis -1\n",
    "\n",
    "[Hint]: you will mainly use modules from torch.nn\n",
    "\n"
   ]
  },
  {
   "cell_type": "code",
   "execution_count": 75,
   "metadata": {},
   "outputs": [],
   "source": [
    "# Define the neural network\n",
    "class model(nn.Module):\n",
    "    def __init__(self):\n",
    "        super(model, self).__init__()\n",
    "\n",
    "        # Layer 1\n",
    "        self.layer1 = nn.Linear(400, 128, bias=True)\n",
    "        self.activation1 = nn.ReLU()\n",
    "\n",
    "        # Layer 2\n",
    "        self.layer2 = nn.Linear(128, 64, bias=True)\n",
    "        self.activation2 = nn.ReLU()\n",
    "\n",
    "        # Layer 3\n",
    "        self.layer3 = nn.Linear(64, 4, bias=False)\n",
    "        self.activation3 = nn.Softmax(dim = -1)\n",
    "\n",
    "    def forward(self, x):\n",
    "        # Forward through the layers\n",
    "        x = self.activation1(self.layer1(x))\n",
    "        x = self.activation2(self.layer2(x))\n",
    "        x = self.activation3(self.layer3(x))\n",
    "        return x\n",
    "\n",
    "# Create the model\n",
    "model_tmp = model()"
   ]
  },
  {
   "cell_type": "markdown",
   "metadata": {},
   "source": [
    "##### 1-6 (1 point) \n",
    "\n",
    "Flatten the two last axis of `a` and apply `model_tmp` on `a`. Print your output.\n"
   ]
  },
  {
   "cell_type": "code",
   "execution_count": 76,
   "metadata": {},
   "outputs": [
    {
     "name": "stdout",
     "output_type": "stream",
     "text": [
      "Output of model_tmp applied on 'a':\n",
      "tensor([[0.27970883250236511230, 0.27932488918304443359, 0.22022750973701477051,\n",
      "         0.22073873877525329590],\n",
      "        [0.28648114204406738281, 0.25987100601196289062, 0.22835181653499603271,\n",
      "         0.22529605031013488770],\n",
      "        [0.28373730182647705078, 0.27015921473503112793, 0.20905901491641998291,\n",
      "         0.23704436421394348145]], grad_fn=<SoftmaxBackward0>)\n"
     ]
    }
   ],
   "source": [
    "# Flatten a\n",
    "a = torch.flatten(a,1)\n",
    "\n",
    "# Apply the model\n",
    "output = model_tmp(a)\n",
    "print(\"Output of model_tmp applied on 'a':\")\n",
    "print(output)"
   ]
  },
  {
   "cell_type": "markdown",
   "metadata": {},
   "source": [
    "##### 1-7 (1 point) \n",
    "Calculate the MSE loss between `this output` and an `all-1 tensor`. Print your result.\n",
    "\n",
    "[Hint]: You can use either **torch.nn.functional** or **torch.nn** or **torch**\n"
   ]
  },
  {
   "cell_type": "code",
   "execution_count": 77,
   "metadata": {},
   "outputs": [
    {
     "name": "stdout",
     "output_type": "stream",
     "text": [
      "MSE Loss: 0.563281774520874\n"
     ]
    }
   ],
   "source": [
    "import torch.nn.functional as F\n",
    "# Create a all-1 tensor\n",
    "target = torch.ones_like(output)\n",
    "mse_loss = F.mse_loss(output, target)\n",
    "print(\"MSE Loss:\", mse_loss.item())"
   ]
  },
  {
   "cell_type": "markdown",
   "metadata": {},
   "source": [
    "##### 1-8 (1 point) \n",
    "Excecute `back-propagation` on this loss and extract the gradient of the `final layer` of model_tmp as `grd`. Print `grd[:,5]`\n",
    "\n",
    "[Hint]: To extract the weights, you can use w_last_layer = list(model.parameters())[-1] or any other more elegant phrase."
   ]
  },
  {
   "cell_type": "code",
   "execution_count": 78,
   "metadata": {},
   "outputs": [
    {
     "name": "stdout",
     "output_type": "stream",
     "text": [
      "tensor([0., 0., 0., 0.])\n"
     ]
    }
   ],
   "source": [
    "model_tmp.zero_grad(True)\n",
    "\n",
    "# Backward mse and it will calculate grad automatically\n",
    "mse_loss.backward(retain_graph=True)\n",
    "w_last_layer = list(model_tmp.parameters())[-1]\n",
    "grd = w_last_layer.grad\n",
    "print(grd[:,5])"
   ]
  },
  {
   "cell_type": "markdown",
   "metadata": {},
   "source": [
    "##### 1-9 (1 point) \n",
    "1. Create a `SGD optimizer` with learning_rate = `1e-3` associated with the parameters of model_tmp. \n",
    "2. Step this optimizer. \n",
    "3. Verify that the `variation of the parameters` of the last layer equals `1e-3 * grd`, except that there might be some machine inaccuracies.\n",
    "\n",
    "[Hint]: You can simple print something and we'll see that most of the entries are near 0 or that most of the entries are near 0.001"
   ]
  },
  {
   "cell_type": "code",
   "execution_count": 79,
   "metadata": {},
   "outputs": [
    {
     "name": "stdout",
     "output_type": "stream",
     "text": [
      "\n",
      "Variation in Parameters:\n",
      "tensor([[0., 0., 0., 0., 0., 0., 0., 0., 0., 0., 0., 0., 0., 0., 0., 0., 0., 0., 0., 0., 0., 0., 0., 0.,\n",
      "         0., 0., 0., 0., 0., 0., 0., 0., 0., 0., 0., 0., 0., 0., 0., 0., 0., 0., 0., 0., 0., 0., 0., 0.,\n",
      "         0., 0., 0., 0., 0., 0., 0., 0., 0., 0., 0., 0., 0., 0., 0., 0.],\n",
      "        [0., 0., 0., 0., 0., 0., 0., 0., 0., 0., 0., 0., 0., 0., 0., 0., 0., 0., 0., 0., 0., 0., 0., 0.,\n",
      "         0., 0., 0., 0., 0., 0., 0., 0., 0., 0., 0., 0., 0., 0., 0., 0., 0., 0., 0., 0., 0., 0., 0., 0.,\n",
      "         0., 0., 0., 0., 0., 0., 0., 0., 0., 0., 0., 0., 0., 0., 0., 0.],\n",
      "        [0., 0., 0., 0., 0., 0., 0., 0., 0., 0., 0., 0., 0., 0., 0., 0., 0., 0., 0., 0., 0., 0., 0., 0.,\n",
      "         0., 0., 0., 0., 0., 0., 0., 0., 0., 0., 0., 0., 0., 0., 0., 0., 0., 0., 0., 0., 0., 0., 0., 0.,\n",
      "         0., 0., 0., 0., 0., 0., 0., 0., 0., 0., 0., 0., 0., 0., 0., 0.],\n",
      "        [0., 0., 0., 0., 0., 0., 0., 0., 0., 0., 0., 0., 0., 0., 0., 0., 0., 0., 0., 0., 0., 0., 0., 0.,\n",
      "         0., 0., 0., 0., 0., 0., 0., 0., 0., 0., 0., 0., 0., 0., 0., 0., 0., 0., 0., 0., 0., 0., 0., 0.,\n",
      "         0., 0., 0., 0., 0., 0., 0., 0., 0., 0., 0., 0., 0., 0., 0., 0.]],\n",
      "       grad_fn=<SubBackward0>)\n"
     ]
    }
   ],
   "source": [
    "import torch.optim as optim\n",
    "model_tmp.zero_grad(True)\n",
    "\n",
    "# Create SGD optimizer\n",
    "optimizer = optim.SGD(model_tmp.parameters(), lr = 1e-3)\n",
    "\n",
    "# Backward pass to compute the gradient\n",
    "optimizer.zero_grad(True)\n",
    "mse_loss.backward(retain_graph=True)\n",
    "\n",
    "# Step the optimizer to update the parameters\n",
    "optimizer.step()\n",
    "\n",
    "# Calculate the variation in parameters\n",
    "torch.set_printoptions(precision=20)\n",
    "param_variation = list(model_tmp.parameters())[-1] - w_last_layer\n",
    "print(\"\\nVariation in Parameters:\")\n",
    "print(param_variation)\n"
   ]
  },
  {
   "cell_type": "markdown",
   "metadata": {},
   "source": [
    "### 2. Simple fully-connected NN (MLP) (12 points)\n",
    "\n",
    "**`Procedure`**: (1+1+1+1 = 4 points)\n",
    "1. Create a fully-connected neural network, which will be a MLP. This NN will take the fattened images ([28,28] -> [28*28]) as input.  \n",
    "2. Choose your optimizer and criterion (loss function).\n",
    "3. Train some epoches (you can start with 10) on the MNIST data-set.\n",
    "4. Keep your best model according to validation loss.\n",
    "5. `Save your best model and attach it in your submitted zip`.\n",
    "\n",
    "**`Required outputs`**: (1+1+2 = 4 points)\n",
    "1. Print averaged train loss and validation loss at the end of each epoch.\n",
    "2. After the training finished, plot your train (validation, respectively) loss of each step (epoch, respectively) on a same graph. Keep the x-axis aligned.\n",
    "3. Test your best model on test set and print (1) test loss value as well as (2) the rate of correct prediction. \n",
    "\n",
    "\n",
    "4 points are given according to your test performance. `4 is given if you have correct test prediction rate > 90.00%`\n",
    "\n"
   ]
  },
  {
   "cell_type": "markdown",
   "metadata": {},
   "source": [
    "#### I find that I cannot download the dataset, so I choose to use the data from the TA directly."
   ]
  },
  {
   "cell_type": "code",
   "execution_count": 1,
   "metadata": {},
   "outputs": [
    {
     "name": "stdout",
     "output_type": "stream",
     "text": [
      "torch.Size([10, 1, 28, 28]) torch.Size([10])\n",
      "tensor([1, 9, 0, 9, 7, 0, 5, 1, 2, 2])\n"
     ]
    }
   ],
   "source": [
    "#### prepare data-set\n",
    "#### you re expected to have either pickle or torchvision in your environment\n",
    "\n",
    "import torch\n",
    "from torch.utils.data import DataLoader, Dataset, Subset\n",
    "import matplotlib.pyplot as plt\n",
    "\n",
    "# python > 3.4\n",
    "# if importlib.util.find_spec('torchvision') is None: # if you do not have torchvision, use TA's downloaded data\n",
    "import pickle as pkl\n",
    "with open('MNIST_dataset_local','rb') as read_file:\n",
    "    data = pkl.load(read_file)\n",
    "    read_file.close()\n",
    "train_images, train_labels = data['train']\n",
    "test_images, test_labels = data['test']\n",
    "val_images, val_labels = train_images[5500:], train_labels[5500:]\n",
    "train_images, train_labels = train_images[:5500], train_labels[:5500]\n",
    "class myMnistDataSet(Dataset):\n",
    "    def __init__(self,images,labels):\n",
    "        self.X = images[:,None,...]\n",
    "        self.y = labels\n",
    "    def __len__(self):\n",
    "        return len(self.X)\n",
    "    def __getitem__(self, index):\n",
    "        image = self.X[index]\n",
    "        label = self.y[index]\n",
    "        return torch.Tensor(image), torch.tensor(label)[0]\n",
    "mnist_train = myMnistDataSet(train_images, train_labels.astype('int64'))\n",
    "mnist_test = myMnistDataSet(test_images, test_labels.astype('int64'))\n",
    "mnist_val = myMnistDataSet(val_images, val_labels.astype('int64'))\n",
    "\n",
    "# else: # use torchvision\n",
    "#     from torchvision import transforms, datasets\n",
    "#\n",
    "#     mnist_download_path = './MNIST_dataset'\n",
    "#     datasets.MNIST(root=mnist_download_path, download=True)\n",
    "#\n",
    "#     mnist_train = datasets.MNIST(root = mnist_download_path, train = True, transform=transforms.ToTensor())\n",
    "#     mnist_val   = Subset(mnist_train, list(range(5500,6000)))\n",
    "#     mnist_train = Subset(mnist_train, list(range(5500)))\n",
    "#\n",
    "#     mnist_test  = datasets.MNIST(root = mnist_download_path, train = False, transform=transforms.ToTensor())\n",
    "\n",
    "\n",
    "def get_loaders(batch_size):\n",
    "    train_loader = DataLoader(mnist_train, batch_size = batch_size, shuffle=True)\n",
    "    val_loader   = DataLoader(mnist_val, batch_size = batch_size, shuffle=False)\n",
    "    test_loader  = DataLoader(mnist_test, batch_size = batch_size, shuffle=False)\n",
    "\n",
    "    return train_loader, val_loader, test_loader\n",
    "\n",
    "\n",
    "# get to know your loader\n",
    "batch_size = 10\n",
    "train_loader, val_loader, test_loader = get_loaders(batch_size)\n",
    "\n",
    "for im, l in val_loader:\n",
    "    break\n",
    "\n",
    "print(im.shape, l.shape)\n",
    "print(l)"
   ]
  },
  {
   "cell_type": "code",
   "execution_count": 15,
   "metadata": {},
   "outputs": [
    {
     "name": "stdout",
     "output_type": "stream",
     "text": [
      "Epoch 1, Train Loss: 3.1982, Validation Loss: 1.3365\n",
      "Epoch 2, Train Loss: 0.7093, Validation Loss: 1.0488\n",
      "Epoch 3, Train Loss: 0.3467, Validation Loss: 0.9261\n",
      "Epoch 4, Train Loss: 0.1812, Validation Loss: 0.8434\n",
      "Epoch 5, Train Loss: 0.1403, Validation Loss: 0.9436\n",
      "Epoch 6, Train Loss: 0.0781, Validation Loss: 0.9137\n",
      "Epoch 7, Train Loss: 0.0597, Validation Loss: 0.8351\n",
      "Epoch 8, Train Loss: 0.1312, Validation Loss: 0.9132\n",
      "Epoch 9, Train Loss: 0.0837, Validation Loss: 0.8173\n",
      "Epoch 10, Train Loss: 0.0388, Validation Loss: 0.7912\n"
     ]
    },
    {
     "data": {
      "image/png": "[encoded data removed]",
      "text/plain": [
       "<Figure size 640x480 with 2 Axes>"
      ]
     },
     "metadata": {},
     "output_type": "display_data"
    },
    {
     "name": "stdout",
     "output_type": "stream",
     "text": [
      "Test Loss: 0.7882\n",
      "Correct Prediction Rate: 91.31%\n"
     ]
    }
   ],
   "source": [
    "import torch.nn as nn\n",
    "import torch.optim as optim\n",
    "import matplotlib.pyplot as plt\n",
    "import numpy as np\n",
    "\n",
    "# Step 1: Create a fully-connected neural network (MLP)\n",
    "class MLP(nn.Module):\n",
    "    def __init__(self):\n",
    "        super(MLP, self).__init__()\n",
    "        self.flatten = nn.Flatten()\n",
    "        self.fc1 = nn.Linear(28 * 28, 128)\n",
    "        self.relu = nn.ReLU()\n",
    "        self.fc2 = nn.Linear(128, 10)\n",
    "\n",
    "    def forward(self, x):\n",
    "        x = self.flatten(x)\n",
    "        x = self.fc1(x)\n",
    "        x = self.relu(x)\n",
    "        x = self.fc2(x)\n",
    "        return x\n",
    "\n",
    "# Step 2: Choose optimizer and loss_function\n",
    "mlp = MLP()\n",
    "optimizer = optim.Adam(mlp.parameters(), lr=0.00012)\n",
    "loss_function = nn.CrossEntropyLoss()\n",
    "\n",
    "# Step 3: Train for epochs\n",
    "num_epochs = 10\n",
    "\n",
    "# Use train_losses to record the losses while step.\n",
    "train_losses = []\n",
    "validation_losses = []\n",
    "loss_list = []\n",
    "best_validation_loss = None\n",
    "\n",
    "# Training process\n",
    "for epoch in range(num_epochs):\n",
    "    mlp.train()\n",
    "    current_train_loss = 0.0\n",
    "\n",
    "    for im, l in train_loader:\n",
    "        optimizer.zero_grad()\n",
    "        outputs = mlp(im)\n",
    "        loss = loss_function(outputs, l)\n",
    "        loss.backward()\n",
    "        optimizer.step()\n",
    "        current_train_loss += loss.item()\n",
    "        loss_list.append(loss.item())\n",
    "\n",
    "    average_train_loss = current_train_loss / len(train_loader)\n",
    "    train_losses.append(average_train_loss)\n",
    "\n",
    "    # Validation\n",
    "    mlp.eval()\n",
    "    current_validation_loss = 0.0\n",
    "    for im, l in val_loader:\n",
    "        outputs = mlp(im)\n",
    "        loss = loss_function(outputs, l)\n",
    "        current_validation_loss += loss.item()\n",
    "\n",
    "    average_validation_loss = current_validation_loss / len(val_loader)\n",
    "    validation_losses.append(average_validation_loss)\n",
    "\n",
    "    # Print averaged train loss and validation loss at the end of each epoch\n",
    "    print(f'Epoch {epoch + 1}, Train Loss: {average_train_loss:.4f}, Validation Loss: {average_validation_loss:.4f}')\n",
    "\n",
    "    # Save the best model\n",
    "    if not best_validation_loss or average_validation_loss < best_validation_loss:\n",
    "        best_validation_loss = average_validation_loss\n",
    "        torch.save(mlp, 'best_mlp.pt')\n",
    "\n",
    "loss_list = np.array(loss_list)\n",
    "\n",
    "# Step 4: Visualize the results\n",
    "fig, ax1 = plt.subplots()\n",
    "ax1.plot(range(1,len(loss_list)+1), loss_list, label='Train Loss',color = 'g')\n",
    "plt.legend(loc = 1)\n",
    "ax1.set_xlabel('step', color='g')\n",
    "ax1.set_ylabel('loss')\n",
    "ax1.tick_params('x', colors='g')\n",
    "ax2 = ax1.twiny()\n",
    "ax2.plot(range(1, num_epochs + 1), validation_losses, label='Validation Loss',color = 'b')\n",
    "ax2.set_xlabel('epoch', color='b')\n",
    "ax2.tick_params('x', colors='b')\n",
    "plt.legend(loc = 9)\n",
    "plt.show()\n",
    "\n",
    "# Load the best model\n",
    "best_model = torch.load('best_mlp.pt')\n",
    "\n",
    "# Test the model\n",
    "best_model.eval()\n",
    "test_loss = 0.0\n",
    "correct_predictions = 0\n",
    "\n",
    "with torch.no_grad():\n",
    "    for images, labels in test_loader:\n",
    "        outputs = best_model(images)\n",
    "        loss = loss_function(outputs, labels)\n",
    "        test_loss += loss.item()\n",
    "        _, predicted = torch.max(outputs, 1)\n",
    "        correct_predictions += (predicted == labels).sum().item()\n",
    "\n",
    "# Print test loss and rate of correct prediction\n",
    "average_test_loss = test_loss / len(test_loader)\n",
    "accuracy = correct_predictions / len(mnist_test)\n",
    "\n",
    "print(f'Test Loss: {average_test_loss:.4f}')\n",
    "print(f'Correct Prediction Rate: {accuracy * 100:.2f}%')"
   ]
  },
  {
   "cell_type": "markdown",
   "metadata": {},
   "source": [
    "### 3. Bonus - Weight game (Bonus 2+4+1 = 7 points. Bonus is for this exercise exclusively)\n",
    "\n",
    "3-1. Display\n",
    "- The average image of respectively label 1-10 over the validation set.\n",
    "\n",
    "3-2. Build a 1-layer NN for this problem. Use `Binary Cross Entropy Loss` as validation criterion. Train some epoches until `validation loss < 0.1`. This 1-layer NN has no more than 2 parameters (w and b). Display w with respect to label 1-10, for:\n",
    "\n",
    " - Before training (randomly initialized weights). Print the validation loss at this moment.\n",
    " - After val loss < 0.1 \n",
    "\n",
    "3-3. Use **`one word`** to summarize the mecanism with which this NN works.\n",
    "\n",
    "[Hint]: \n",
    " - For display, please refer to solution_HW1_polynomial_regression for loop structure. This time you will use plt.imshow()  \n",
    " - The weight shape is [10,28*28]. Reshape to [10,28,28] then plot 10 times [28,28]"
   ]
  },
  {
   "cell_type": "code",
   "execution_count": 5,
   "metadata": {},
   "outputs": [
    {
     "data": {
      "image/png": "[encoded data removed]",
      "text/plain": [
       "<Figure size 640x480 with 10 Axes>"
      ]
     },
     "metadata": {},
     "output_type": "display_data"
    }
   ],
   "source": [
    "import torch\n",
    "import matplotlib.pyplot as plt\n",
    "import numpy as np\n",
    "# Use the function to get the average image for each label\n",
    "def get_average_images(val_loader):\n",
    "    averages = torch.zeros((10, 28, 28))\n",
    "    counts = torch.zeros(10)\n",
    "\n",
    "    with torch.no_grad():\n",
    "        for im, l in val_loader:\n",
    "            for i in range(len(l)):\n",
    "                label = l[i].item()\n",
    "                averages[label] += im[i][0]\n",
    "                counts[label] += 1\n",
    "\n",
    "    averages /= counts.view(-1, 1, 1)\n",
    "    return averages\n",
    "\n",
    "# Display the average images\n",
    "def display_average_images(averages):\n",
    "    for i in range(10):\n",
    "        plt.subplot(2, 5, i + 1)\n",
    "        plt.imshow(averages[i], cmap='gray')\n",
    "        plt.title(f'Label {i}')\n",
    "        plt.axis('off')\n",
    "    plt.show()\n",
    "\n",
    "# Call the functions\n",
    "averages = get_average_images(val_loader)\n",
    "display_average_images(averages)\n"
   ]
  },
  {
   "cell_type": "code",
   "execution_count": 9,
   "metadata": {},
   "outputs": [
    {
     "ename": "KeyboardInterrupt",
     "evalue": "",
     "output_type": "error",
     "traceback": [
      "\u001b[1;31m---------------------------------------------------------------------------\u001b[0m",
      "\u001b[1;31mKeyboardInterrupt\u001b[0m                         Traceback (most recent call last)",
      "\u001b[1;32m~\\AppData\\Local\\Temp\\ipykernel_12604\\2085385283.py\u001b[0m in \u001b[0;36m<module>\u001b[1;34m\u001b[0m\n\u001b[0;32m     50\u001b[0m     \u001b[1;32mwith\u001b[0m \u001b[0mtorch\u001b[0m\u001b[1;33m.\u001b[0m\u001b[0mno_grad\u001b[0m\u001b[1;33m(\u001b[0m\u001b[1;33m)\u001b[0m\u001b[1;33m:\u001b[0m\u001b[1;33m\u001b[0m\u001b[1;33m\u001b[0m\u001b[0m\n\u001b[0;32m     51\u001b[0m         \u001b[1;32mfor\u001b[0m \u001b[0mim\u001b[0m\u001b[1;33m,\u001b[0m \u001b[0ml\u001b[0m \u001b[1;32min\u001b[0m \u001b[0mval_loader\u001b[0m\u001b[1;33m:\u001b[0m\u001b[1;33m\u001b[0m\u001b[1;33m\u001b[0m\u001b[0m\n\u001b[1;32m---> 52\u001b[1;33m             \u001b[0moutputs\u001b[0m \u001b[1;33m=\u001b[0m \u001b[0mbonus\u001b[0m\u001b[1;33m(\u001b[0m\u001b[0mim\u001b[0m\u001b[1;33m)\u001b[0m\u001b[1;33m\u001b[0m\u001b[1;33m\u001b[0m\u001b[0m\n\u001b[0m\u001b[0;32m     53\u001b[0m             \u001b[0mval_loss\u001b[0m \u001b[1;33m+=\u001b[0m \u001b[0mloss_function\u001b[0m\u001b[1;33m(\u001b[0m\u001b[0moutputs\u001b[0m\u001b[1;33m,\u001b[0m \u001b[0ml\u001b[0m\u001b[1;33m)\u001b[0m\u001b[1;33m.\u001b[0m\u001b[0mitem\u001b[0m\u001b[1;33m(\u001b[0m\u001b[1;33m)\u001b[0m\u001b[1;33m\u001b[0m\u001b[1;33m\u001b[0m\u001b[0m\n\u001b[0;32m     54\u001b[0m     \u001b[0mval_loss\u001b[0m \u001b[1;33m/=\u001b[0m \u001b[0mlen\u001b[0m\u001b[1;33m(\u001b[0m\u001b[0mval_loader\u001b[0m\u001b[1;33m)\u001b[0m\u001b[1;33m\u001b[0m\u001b[1;33m\u001b[0m\u001b[0m\n",
      "\u001b[1;32md:\\python\\lib\\site-packages\\torch\\nn\\modules\\module.py\u001b[0m in \u001b[0;36m_call_impl\u001b[1;34m(self, *input, **kwargs)\u001b[0m\n\u001b[0;32m   1192\u001b[0m         if not (self._backward_hooks or self._forward_hooks or self._forward_pre_hooks or _global_backward_hooks\n\u001b[0;32m   1193\u001b[0m                 or _global_forward_hooks or _global_forward_pre_hooks):\n\u001b[1;32m-> 1194\u001b[1;33m             \u001b[1;32mreturn\u001b[0m \u001b[0mforward_call\u001b[0m\u001b[1;33m(\u001b[0m\u001b[1;33m*\u001b[0m\u001b[0minput\u001b[0m\u001b[1;33m,\u001b[0m \u001b[1;33m**\u001b[0m\u001b[0mkwargs\u001b[0m\u001b[1;33m)\u001b[0m\u001b[1;33m\u001b[0m\u001b[1;33m\u001b[0m\u001b[0m\n\u001b[0m\u001b[0;32m   1195\u001b[0m         \u001b[1;31m# Do not call functions when jit is used\u001b[0m\u001b[1;33m\u001b[0m\u001b[1;33m\u001b[0m\u001b[1;33m\u001b[0m\u001b[0m\n\u001b[0;32m   1196\u001b[0m         \u001b[0mfull_backward_hooks\u001b[0m\u001b[1;33m,\u001b[0m \u001b[0mnon_full_backward_hooks\u001b[0m \u001b[1;33m=\u001b[0m \u001b[1;33m[\u001b[0m\u001b[1;33m]\u001b[0m\u001b[1;33m,\u001b[0m \u001b[1;33m[\u001b[0m\u001b[1;33m]\u001b[0m\u001b[1;33m\u001b[0m\u001b[1;33m\u001b[0m\u001b[0m\n",
      "\u001b[1;32m~\\AppData\\Local\\Temp\\ipykernel_12604\\2085385283.py\u001b[0m in \u001b[0;36mforward\u001b[1;34m(self, x)\u001b[0m\n\u001b[0;32m     12\u001b[0m     \u001b[1;32mdef\u001b[0m \u001b[0mforward\u001b[0m\u001b[1;33m(\u001b[0m\u001b[0mself\u001b[0m\u001b[1;33m,\u001b[0m \u001b[0mx\u001b[0m\u001b[1;33m)\u001b[0m\u001b[1;33m:\u001b[0m\u001b[1;33m\u001b[0m\u001b[1;33m\u001b[0m\u001b[0m\n\u001b[0;32m     13\u001b[0m         \u001b[0mx\u001b[0m \u001b[1;33m=\u001b[0m \u001b[0mx\u001b[0m\u001b[1;33m.\u001b[0m\u001b[0mview\u001b[0m\u001b[1;33m(\u001b[0m\u001b[0mx\u001b[0m\u001b[1;33m.\u001b[0m\u001b[0msize\u001b[0m\u001b[1;33m(\u001b[0m\u001b[1;36m0\u001b[0m\u001b[1;33m)\u001b[0m\u001b[1;33m,\u001b[0m \u001b[1;33m-\u001b[0m\u001b[1;36m1\u001b[0m\u001b[1;33m)\u001b[0m\u001b[1;33m\u001b[0m\u001b[1;33m\u001b[0m\u001b[0m\n\u001b[1;32m---> 14\u001b[1;33m         \u001b[0mx\u001b[0m \u001b[1;33m=\u001b[0m \u001b[0mself\u001b[0m\u001b[1;33m.\u001b[0m\u001b[0mlinear\u001b[0m\u001b[1;33m(\u001b[0m\u001b[0mx\u001b[0m\u001b[1;33m)\u001b[0m\u001b[1;33m\u001b[0m\u001b[1;33m\u001b[0m\u001b[0m\n\u001b[0m\u001b[0;32m     15\u001b[0m         \u001b[1;32mreturn\u001b[0m \u001b[0mx\u001b[0m\u001b[1;33m\u001b[0m\u001b[1;33m\u001b[0m\u001b[0m\n\u001b[0;32m     16\u001b[0m \u001b[1;33m\u001b[0m\u001b[0m\n",
      "\u001b[1;32md:\\python\\lib\\site-packages\\torch\\nn\\modules\\module.py\u001b[0m in \u001b[0;36m_call_impl\u001b[1;34m(self, *input, **kwargs)\u001b[0m\n\u001b[0;32m   1192\u001b[0m         if not (self._backward_hooks or self._forward_hooks or self._forward_pre_hooks or _global_backward_hooks\n\u001b[0;32m   1193\u001b[0m                 or _global_forward_hooks or _global_forward_pre_hooks):\n\u001b[1;32m-> 1194\u001b[1;33m             \u001b[1;32mreturn\u001b[0m \u001b[0mforward_call\u001b[0m\u001b[1;33m(\u001b[0m\u001b[1;33m*\u001b[0m\u001b[0minput\u001b[0m\u001b[1;33m,\u001b[0m \u001b[1;33m**\u001b[0m\u001b[0mkwargs\u001b[0m\u001b[1;33m)\u001b[0m\u001b[1;33m\u001b[0m\u001b[1;33m\u001b[0m\u001b[0m\n\u001b[0m\u001b[0;32m   1195\u001b[0m         \u001b[1;31m# Do not call functions when jit is used\u001b[0m\u001b[1;33m\u001b[0m\u001b[1;33m\u001b[0m\u001b[1;33m\u001b[0m\u001b[0m\n\u001b[0;32m   1196\u001b[0m         \u001b[0mfull_backward_hooks\u001b[0m\u001b[1;33m,\u001b[0m \u001b[0mnon_full_backward_hooks\u001b[0m \u001b[1;33m=\u001b[0m \u001b[1;33m[\u001b[0m\u001b[1;33m]\u001b[0m\u001b[1;33m,\u001b[0m \u001b[1;33m[\u001b[0m\u001b[1;33m]\u001b[0m\u001b[1;33m\u001b[0m\u001b[1;33m\u001b[0m\u001b[0m\n",
      "\u001b[1;32md:\\python\\lib\\site-packages\\torch\\nn\\modules\\linear.py\u001b[0m in \u001b[0;36mforward\u001b[1;34m(self, input)\u001b[0m\n\u001b[0;32m    112\u001b[0m \u001b[1;33m\u001b[0m\u001b[0m\n\u001b[0;32m    113\u001b[0m     \u001b[1;32mdef\u001b[0m \u001b[0mforward\u001b[0m\u001b[1;33m(\u001b[0m\u001b[0mself\u001b[0m\u001b[1;33m,\u001b[0m \u001b[0minput\u001b[0m\u001b[1;33m:\u001b[0m \u001b[0mTensor\u001b[0m\u001b[1;33m)\u001b[0m \u001b[1;33m->\u001b[0m \u001b[0mTensor\u001b[0m\u001b[1;33m:\u001b[0m\u001b[1;33m\u001b[0m\u001b[1;33m\u001b[0m\u001b[0m\n\u001b[1;32m--> 114\u001b[1;33m         \u001b[1;32mreturn\u001b[0m \u001b[0mF\u001b[0m\u001b[1;33m.\u001b[0m\u001b[0mlinear\u001b[0m\u001b[1;33m(\u001b[0m\u001b[0minput\u001b[0m\u001b[1;33m,\u001b[0m \u001b[0mself\u001b[0m\u001b[1;33m.\u001b[0m\u001b[0mweight\u001b[0m\u001b[1;33m,\u001b[0m \u001b[0mself\u001b[0m\u001b[1;33m.\u001b[0m\u001b[0mbias\u001b[0m\u001b[1;33m)\u001b[0m\u001b[1;33m\u001b[0m\u001b[1;33m\u001b[0m\u001b[0m\n\u001b[0m\u001b[0;32m    115\u001b[0m \u001b[1;33m\u001b[0m\u001b[0m\n\u001b[0;32m    116\u001b[0m     \u001b[1;32mdef\u001b[0m \u001b[0mextra_repr\u001b[0m\u001b[1;33m(\u001b[0m\u001b[0mself\u001b[0m\u001b[1;33m)\u001b[0m \u001b[1;33m->\u001b[0m \u001b[0mstr\u001b[0m\u001b[1;33m:\u001b[0m\u001b[1;33m\u001b[0m\u001b[1;33m\u001b[0m\u001b[0m\n",
      "\u001b[1;31mKeyboardInterrupt\u001b[0m: "
     ]
    }
   ],
   "source": [
    "import torch.nn as nn\n",
    "import torch.optim as optim\n",
    "import matplotlib.pyplot as plt\n",
    "import numpy as np\n",
    "import random\n",
    "\n",
    "class BONUS(nn.Module):\n",
    "    def __init__(self):\n",
    "        super(BONUS, self).__init__()\n",
    "        self.linear = nn.Linear(28 * 28, 10)\n",
    "\n",
    "    def forward(self, x):\n",
    "        x = x.view(x.size(0), -1)\n",
    "        x = self.linear(x)\n",
    "        return x\n",
    "\n",
    "bonus = BONUS()\n",
    "optimizer = optim.Adam(bonus.parameters(), lr=0.00012)\n",
    "loss_function = nn.CrossEntropyLoss()\n",
    "\n",
    "train_losses = []\n",
    "validation_losses = []\n",
    "best_validation_loss = None\n",
    "\n",
    "bonus.eval()\n",
    "current_validation_loss = 0.0\n",
    "im, l = train_loader[random.randint(0,len(train_loader))]\n",
    "optimizer.zero_grad()\n",
    "outputs = bonus(im)\n",
    "\n",
    "for im, l in val_loader:\n",
    "    outputs = bonus(im)\n",
    "    loss = loss_function(outputs, l)\n",
    "    current_validation_loss += loss.item()\n",
    "average_validation_loss = current_validation_loss / len(val_loader)\n",
    "\n",
    "# Training process\n",
    "while average_validation_loss > 0.1:\n",
    "    for im, l in train_loader:\n",
    "        optimizer.zero_grad()\n",
    "        outputs = bonus(im)\n",
    "        loss = loss_function(outputs, l)\n",
    "        loss.backward()\n",
    "        optimizer.step()\n",
    "\n",
    "    # Calculate validation loss\n",
    "    val_loss = 0.0\n",
    "    with torch.no_grad():\n",
    "        for im, l in val_loader:\n",
    "            outputs = bonus(im)\n",
    "            val_loss += loss_function(outputs, l).item()\n",
    "    val_loss /= len(val_loader)\n",
    "\n",
    "trained_weights = np.array(bonus.linear.weight)\n",
    "trained_bias = np.array(bonus.linear.bias)\n",
    "\n",
    "# Print the trained weights and bias\n",
    "print(f'Trained Weights:\\n{trained_weights}')\n",
    "print(f'Trained Bias:\\n{trained_bias}')"
   ]
  },
  {
   "cell_type": "markdown",
   "metadata": {},
   "source": [
    "**One word**: Linear"
   ]
  },
  {
   "cell_type": "markdown",
   "metadata": {},
   "source": [
    "### 4. CNN (13 points)\n",
    "\n",
    "`Build your own CNN from scratch (3 points)` to solve this classification problem. Choose any optimizer and criterion that you want. Regulate your CNN structure and try to have as good result as possible.\n",
    "\n",
    "\n",
    "**`Required outputs`**: (0.5+1+1+2+1 = 5.5 points)\n",
    "1. Print the number of parameters of your cnn model.\n",
    "2. Print averaged train loss and validation loss at the end of each epoch.\n",
    "3. After the training finished, plot your train (validation, respectively) loss of each step (epoch, respectively) on a same graph. Keep the x-axis aligned.\n",
    "4. Test your best model on test set and print (1) test loss value as well as (2) the rate of correct prediction. \n",
    "5. Display the confusion matrix of your best model on the test set.\n",
    "6. `Save your best model and attach it in your submitted zip`.\n",
    "\n",
    "\n",
    "4.5 points are given according to your test performance. `4.5 is given if you have correct test prediction rate > 97.00%.`\n",
    "\n",
    "[Hint]: \n",
    "1. If you use batch normalizations, be aware of what BatchNorm does while fed with data (you will need to add two lines of codes to manage your training and testing).\n",
    "1. As for confusion matrix (multi-class classfication), consider a $10\\times 10$ matrix where each row represents \"gt is\" and each column represents \"is predicted as\", then do a counting with all the test samples. You will obtain a gray-scale image (2D matrix).\n",
    "\n",
    "\n",
    "\n",
    "\n",
    "\n",
    "------------------------------------------------------------------------------------------------------------------------------------------------\n",
    "`Discussion for computational cost`: \n",
    "\n",
    "If you have NVIDIA card on your PC, you can use `cuda` to accelerate the calculation. However, theoretically, `2 layers of CNN are enough` to have at least 97% test accuracy for this exercise. \n",
    "\n",
    "If your PC has no worse than Intel Core i5-8250U Processor (as had the TA's PC in 2019) and your code is well done, the program shall be guaranteed to run fast.\n",
    "\n",
    "Conventionally, `you are encouraged to construct not too complicated CNN` to save computational cost, since MNIST is a relatively simple problem. However, `as long as your code works out for you, no point will be removed if your CNN is huge`.\n",
    "\n",
    "------------------------------------------------------------------------------------------------------------------------------------------------\n"
   ]
  },
  {
   "cell_type": "code",
   "execution_count": 18,
   "metadata": {},
   "outputs": [
    {
     "name": "stdout",
     "output_type": "stream",
     "text": [
      "Epoch 1, Train Loss: 0.3024, Validation Loss: 0.1513\n",
      "Epoch 2, Train Loss: 0.1082, Validation Loss: 0.1402\n",
      "Epoch 3, Train Loss: 0.0604, Validation Loss: 0.1151\n",
      "Epoch 4, Train Loss: 0.0586, Validation Loss: 0.1242\n",
      "Epoch 5, Train Loss: 0.0508, Validation Loss: 0.1351\n",
      "Epoch 6, Train Loss: 0.0356, Validation Loss: 0.1272\n",
      "Epoch 7, Train Loss: 0.0174, Validation Loss: 0.0942\n",
      "Epoch 8, Train Loss: 0.0182, Validation Loss: 0.1311\n",
      "Epoch 9, Train Loss: 0.0192, Validation Loss: 0.1950\n",
      "Epoch 10, Train Loss: 0.0311, Validation Loss: 0.1138\n"
     ]
    },
    {
     "data": {
      "image/png": "[encoded data removed]",
      "text/plain": [
       "<Figure size 640x480 with 2 Axes>"
      ]
     },
     "metadata": {},
     "output_type": "display_data"
    },
    {
     "name": "stdout",
     "output_type": "stream",
     "text": [
      "Test Loss: 0.0724\n",
      "Correct Prediction Rate: 97.78%\n"
     ]
    },
    {
     "data": {
      "text/plain": [
       "Text(0.5, 1.0, 'Confusion Matrix')"
      ]
     },
     "execution_count": 18,
     "metadata": {},
     "output_type": "execute_result"
    },
    {
     "data": {
      "image/png": "[encoded data removed]",
      "text/plain": [
       "<Figure size 640x480 with 2 Axes>"
      ]
     },
     "metadata": {},
     "output_type": "display_data"
    }
   ],
   "source": [
    "import torch.nn as nn\n",
    "import torch.optim as optim\n",
    "from torch.utils.data import DataLoader\n",
    "from sklearn.metrics import confusion_matrix\n",
    "import matplotlib.pyplot as plt\n",
    "import numpy as np\n",
    "import seaborn as sns\n",
    "\n",
    "# Set random seed for reproducibility\n",
    "torch.manual_seed(123)\n",
    "\n",
    "# Step 1: Create a simple CNN cnn\n",
    "class CNN(nn.Module):\n",
    "    def __init__(self):\n",
    "        super(CNN, self).__init__()\n",
    "        self.conv1 = nn.Conv2d(1, 16, kernel_size=3, stride=1, padding=1)\n",
    "        self.bn1 = nn.BatchNorm2d(16)\n",
    "        self.relu1 = nn.ReLU()\n",
    "        self.pool1 = nn.MaxPool2d(kernel_size=2, stride=2)\n",
    "\n",
    "        self.conv2 = nn.Conv2d(16, 32, kernel_size=3, stride=1, padding=1)\n",
    "        self.bn2 = nn.BatchNorm2d(32)\n",
    "        self.relu2 = nn.ReLU()\n",
    "        self.pool2 = nn.MaxPool2d(kernel_size=2, stride=2)\n",
    "\n",
    "        self.fc1 = nn.Linear(32*7*7, 10)  # 10 classes for MNIST\n",
    "\n",
    "    def forward(self, x):\n",
    "        x = self.pool1(self.relu1(self.bn1(self.conv1(x))))\n",
    "        x = self.pool2(self.relu2(self.bn2(self.conv2(x))))\n",
    "        x = x.view(-1, 32 * 7 * 7)  # Flatten before fully connected layer\n",
    "        x = self.fc1(x)\n",
    "        return x\n",
    "\n",
    "# Step 2: Choose optimizer and loss_function\n",
    "cnn = CNN()\n",
    "criterion = nn.CrossEntropyLoss()\n",
    "optimizer = optim.Adam(cnn.parameters(), lr=0.0012)\n",
    "\n",
    "# Step 3: Train for some epochs\n",
    "num_epochs = 10\n",
    "\n",
    "# Use train_losses to record the losses while step.\n",
    "train_losses = []\n",
    "validation_losses = []\n",
    "loss_list = []\n",
    "best_validation_loss = None\n",
    "\n",
    "# Training process\n",
    "for epoch in range(num_epochs):\n",
    "    cnn.train()\n",
    "    current_train_loss = 0.0\n",
    "\n",
    "    for im, l in train_loader:\n",
    "        optimizer.zero_grad()\n",
    "        outputs = cnn(im)\n",
    "        loss = loss_function(outputs, l)\n",
    "        loss.backward()\n",
    "        optimizer.step()\n",
    "        current_train_loss += loss.item()\n",
    "        loss_list.append(loss.item())\n",
    "\n",
    "    average_train_loss = current_train_loss / len(train_loader)\n",
    "    train_losses.append(average_train_loss)\n",
    "\n",
    "    # Validation\n",
    "    cnn.eval()\n",
    "    running_validation_loss = 0.0\n",
    "    for im, l in val_loader:\n",
    "        outputs = cnn(im)\n",
    "        loss = loss_function(outputs, l)\n",
    "        running_validation_loss += loss.item()\n",
    "\n",
    "    average_validation_loss = running_validation_loss / len(val_loader)\n",
    "    validation_losses.append(average_validation_loss)\n",
    "\n",
    "    # Print averaged train loss and validation loss at the end of each epoch\n",
    "    print(f'Epoch {epoch + 1}, Train Loss: {average_train_loss:.4f}, Validation Loss: {average_validation_loss:.4f}')\n",
    "\n",
    "    # Save the best model\n",
    "    if not best_validation_loss or average_validation_loss < best_validation_loss:\n",
    "        best_validation_loss = average_validation_loss\n",
    "        torch.save(cnn, 'best_cnn.pt')\n",
    "\n",
    "# Step 4: Visualize the results\n",
    "loss_list = np.array(loss_list)\n",
    "\n",
    "# Step 7: Test your best model on the test set\n",
    "test_loader = DataLoader(mnist_test, batch_size=batch_size, shuffle=False)\n",
    "fig, ax1 = plt.subplots()\n",
    "ax1.plot(range(1,len(loss_list)+1), loss_list, label='Train Loss',color = 'g')\n",
    "plt.legend(loc = 1)\n",
    "ax1.set_xlabel('step', color='g')\n",
    "ax1.set_ylabel('loss')\n",
    "ax1.tick_params('x', colors='g')\n",
    "ax2 = ax1.twiny()\n",
    "ax2.plot(range(1, num_epochs + 1), validation_losses, label='Validation Loss',color = 'b')\n",
    "ax2.set_xlabel('epoch', color='b')\n",
    "ax2.tick_params('x', colors='b')\n",
    "plt.legend(loc = 9)\n",
    "plt.show()\n",
    "\n",
    "# Load the best model\n",
    "best_model = torch.load('best_cnn.pt')\n",
    "\n",
    "# Test the model\n",
    "best_model.eval()\n",
    "test_loss = 0.0\n",
    "correct_predictions = 0\n",
    "all_labels = []\n",
    "all_predicted = []\n",
    "\n",
    "with torch.no_grad():\n",
    "    for images, labels in test_loader:\n",
    "        outputs = best_model(images)\n",
    "        loss = loss_function(outputs, labels)\n",
    "        test_loss += loss.item()\n",
    "        _, predicted = torch.max(outputs, 1)\n",
    "        correct_predictions += (predicted == labels).sum().item()\n",
    "\n",
    "        # Use two arrays to record labels and predicted in order to visualize at last\n",
    "        all_labels.extend(np.array(labels))\n",
    "        all_predicted.extend(np.array(predicted))\n",
    "\n",
    "# Print test loss and rate of correct prediction\n",
    "average_test_loss = test_loss / len(test_loader)\n",
    "accuracy = correct_predictions / len(mnist_test)\n",
    "print(f'Test Loss: {average_test_loss:.4f}')\n",
    "print(f'Correct Prediction Rate: {accuracy * 100:.2f}%')\n",
    "\n",
    "# Draw the confusion matrix\n",
    "sns.set()\n",
    "f,ax = plt.subplots()\n",
    "conf_matrix = confusion_matrix(all_labels, all_predicted,labels=[0,1,2,3,4,5,6,7,8,9])\n",
    "sns.heatmap(conf_matrix,annot=True,ax=ax)\n",
    "plt.xlabel('Predicted')\n",
    "plt.ylabel('True')\n",
    "plt.title('Confusion Matrix')\n",
    "\n"
   ]
  }
 ],
 "metadata": {
  "kernelspec": {
   "display_name": "Python 3 (ipykernel)",
   "language": "python",
   "name": "python3"
  },
  "language_info": {
   "codemirror_mode": {
    "name": "ipython",
    "version": 3
   },
   "file_extension": ".py",
   "mimetype": "text/x-python",
   "name": "python",
   "nbconvert_exporter": "python",
   "pygments_lexer": "ipython3",
   "version": "3.7.8"
  }
 },
 "nbformat": 4,
 "nbformat_minor": 2
}
